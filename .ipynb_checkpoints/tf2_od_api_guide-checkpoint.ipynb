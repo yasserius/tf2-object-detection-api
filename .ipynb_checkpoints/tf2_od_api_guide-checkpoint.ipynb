{
 "cells": [
  {
   "cell_type": "markdown",
   "metadata": {},
   "source": [
    "# Deep Dive: Tensorflow 2 Object Detection API"
   ]
  },
  {
   "cell_type": "markdown",
   "metadata": {},
   "source": [
    "**TL;DR: not a tutorial, just some helpful resources and utility scripts to ease your custom training**"
   ]
  },
  {
   "cell_type": "markdown",
   "metadata": {},
   "source": [
    "The Tensorflow 2 Object Detection API is by far the best way to train state-of-the-art models by Google, especially for beginners."
   ]
  },
  {
   "cell_type": "markdown",
   "metadata": {},
   "source": [
    "# Resources\n",
    "\n",
    "Many resources already exist that allow you to train your own object detector on custom data:\n",
    "\n",
    "* [The official custom training guide from Google research](https://github.com/tensorflow/models/blob/master/research/object_detection/g3doc/tf2_training_and_evaluation.md)\n",
    "    * Provides code snippets of how to run the scripts e.g. `model_main_tf2.py`\n",
    "    * But doesn't provide full guidance as to what to expect.\n",
    "    * There used to be a [custom training guide for the cats and dogs dataset](https://github.com/tensorflow/models/blob/master/research/object_detection/g3doc/running_pets.md) for TF1, but in TF2, the Google team only provided a [few shot learning jupyter notebook](https://colab.research.google.com/github/tensorflow/models/blob/master/research/object_detection/colab_tutorials/eager_few_shot_od_training_tf2_colab.ipynb) (not complaining though).\n",
    "\n",
    "\n",
    "* Google is also generous enough to release pretrained models in the [TF2 Model Zoo](https://github.com/tensorflow/models/blob/master/research/object_detection/g3doc/tf2_detection_zoo.md)\n",
    "    * So we can fine tune on small datasets in the order of thousands and still get near world class results. All hail transfer learning.\n",
    "\n",
    "\n",
    "* This [unofficial tutorial](https://tensorflow-object-detection-api-tutorial.readthedocs.io/en/latest/) on www.readthedocs.io is excellent for beginners, guiding us through every step, from data labelling to model configuration to training to model export and inference. Kudos to the creator!\n",
    "    * But I feel like many of the parts are too manual (`label_map.pbtxt` and `pipeline.config` creation) and can be automated since there is no variation in those steps.\n",
    "\n",
    "\n",
    "* Finally, I found an [old colab](https://colab.research.google.com/github/cloud-annotations/google-colab-training/blob/master/object_detection.ipynb) which uses the TF1 OD API to train on Google Cloud PLatform.\n",
    "    * This was a goldmine, because it showed the usage of the internal utility functions that can be used to create `label_map.pbtxt` and `pipeline.config` very easily.\n",
    "\n",
    "\n",
    "* Similarly, the [few shots learning](https://colab.research.google.com/github/tensorflow/models/blob/master/research/object_detection/colab_tutorials/eager_few_shot_od_training_tf2_colab.ipynb) notebook demonstrated usage of a custom training loop and model creation, which is great for beginners.\n",
    "\n",
    "* Lastly, if you have the patience to read through the [`/object_detection/` files and folders](https://github.com/tensorflow/models/blob/master/research/object_detection/), you can find hundreds of documentations written at the start of the functions."
   ]
  },
  {
   "cell_type": "markdown",
   "metadata": {},
   "source": [
    "I am not going to write the typical tutorial therefore. What I am going to do is compile some of the stuff I have found and put it in a single place. Let's dive in!"
   ]
  },
  {
   "cell_type": "markdown",
   "metadata": {},
   "source": [
    "# Label Images in Colab"
   ]
  },
  {
   "cell_type": "markdown",
   "metadata": {},
   "source": [
    "You can obviously label your data with tools like [LabelImg](https://github.com/tzutalin/labelImg), but if you want to conviniently label some images within colab, there's a tool!\n",
    "\n",
    "``` python\n",
    "from object_detection.utils import colab_utils\n",
    "\n",
    "gt_boxes = []\n",
    "colab_utils.annotate(train_images_np, box_storage_pointer=gt_boxes)\n",
    "```\n",
    "\n",
    "View full usage: [Source](https://github.com/tensorflow/models/blob/master/research/object_detection/colab_tutorials/eager_few_shot_od_training_tf2_colab.ipynb)"
   ]
  },
  {
   "cell_type": "markdown",
   "metadata": {},
   "source": [
    "<img src=\"images/colab_annotation_tool.png\" style=\"height: 300px;\">"
   ]
  },
  {
   "cell_type": "markdown",
   "metadata": {},
   "source": [
    "After labelling, the `gt_boxes` will look like this:\n",
    "```\n",
    "gt_boxes = [\n",
    "    np.array([[0.436, 0.591, 0.629, 0.712]], dtype=np.float32),\n",
    "    np.array([[0.539, 0.583, 0.73, 0.71]], dtype=np.float32),\n",
    "    np.array([[0.464, 0.414, 0.626, 0.548]], dtype=np.float32),\n",
    "    np.array([[0.313, 0.308, 0.648, 0.526]], dtype=np.float32),\n",
    "    np.array([[0.256, 0.444, 0.484, 0.629]], dtype=np.float32)\n",
    "]\n",
    "```\n",
    "That is, a list of `[x_min, y_min, x_max, y_max]`, where all `x`s and `y`s are between 0 and 1."
   ]
  },
  {
   "cell_type": "markdown",
   "metadata": {},
   "source": [
    "# Create TFRecords from Various Annotation Formats"
   ]
  },
  {
   "cell_type": "markdown",
   "metadata": {},
   "source": [
    "TFRecord files are promoted and used by Google as an efficient way to construct in the input data pipeline.\n",
    "\n",
    "Generating them can be hard at first try. There is a helpful function [here](https://github.com/tensorflow/models/blob/master/research/object_detection/g3doc/using_your_own_dataset.md).\n",
    "\n",
    "But if you are using labelImg or some other dataset (say, in my case I was dealing with XML files in the PASCAL VOC format), then you can explore [the `/dataset_tools/` folder](https://github.com/tensorflow/models/tree/master/research/object_detection/dataset_tools) to find a lot of scripts for popular datasets like KITTI and COCO. You have to tweak those scripts to your needs.\n",
    "\n",
    "For example, I wrote this [gist](https://gist.github.com/yasserius/ef9eb79c3f2f516ed1e4f793150d6f76) for PASCAL VOC XML to TFRecords converter.\n",
    "\n",
    "With this, you have to generate `train.record` and `val.record` files."
   ]
  },
  {
   "cell_type": "markdown",
   "metadata": {},
   "source": [
    "# Edit the Configuration Files from Model Zoo"
   ]
  },
  {
   "cell_type": "markdown",
   "metadata": {},
   "source": [
    "The `pipeline.config` file is paramount for training the model using the API. \n",
    "\n",
    "When you download a model from the [TF2 Model Zoo](https://github.com/tensorflow/models/blob/master/research/object_detection/g3doc/tf2_detection_zoo.md) and untar the package, you will find the config file for that model.\n",
    "\n",
    "It contains the model architectural specification (e.g. number of layers and their types), hyperparameters (learning rate, dropout probability), path to label maps, train and validation TFRecord file paths; pretty much every piece of information needed for training. You can see some samples in [the `/configs/tf2` folder](https://github.com/tensorflow/models/tree/master/research/object_detection/configs/tf2)."
   ]
  },
  {
   "cell_type": "markdown",
   "metadata": {},
   "source": [
    "If you want to write your own from scratch, there's a not-so-helpful [official document](https://github.com/tensorflow/models/blob/master/research/object_detection/g3doc/configuring_jobs.md). But you don't have to write from scratch. You can just edit the one from model zoo."
   ]
  },
  {
   "cell_type": "markdown",
   "metadata": {},
   "source": [
    "Now, in order to avoid editing it manually, there are util functions. An example of the usage:\n",
    "``` python\n",
    "from google.protobuf import text_format\n",
    "\n",
    "from object_detection.utils import config_util\n",
    "from object_detection.utils import label_map_util\n",
    "\n",
    "pipeline_skeleton = \"somewhere/pipeline.config\"\n",
    "configs = config_util.get_configs_from_pipeline_file(pipeline_skeleton)\n",
    "\n",
    "label_map = label_map_util.get_label_map_dict(\"somewhere/label_map.pbtxt\")\n",
    "num_classes = len(label_map.keys())\n",
    "meta_arch = configs[\"model\"].WhichOneof(\"model\")\n",
    "\n",
    "override_dict = {\n",
    "  'model.{}.num_classes'.format(meta_arch): num_classes,\n",
    "  'train_config.batch_size': 24,\n",
    "  'train_input_path': \"somewhere/train.record\",\n",
    "  'eval_input_path': \"somewhere/val.record\",\n",
    "  'train_config.fine_tune_checkpoint': \"somewhere/model.ckpt\",\n",
    "  'label_map_path': \"somewhere/label_map.pbtxt\"\n",
    "}\n",
    "\n",
    "configs = config_util.merge_external_params_with_configs(configs, kwargs_dict=override_dict)\n",
    "pipeline_config = config_util.create_pipeline_proto_from_configs(configs)\n",
    "config_util.save_pipeline_config(pipeline_config, \"destination/\")\n",
    "```"
   ]
  },
  {
   "cell_type": "markdown",
   "metadata": {},
   "source": [
    "See full usage: [Source](https://colab.research.google.com/github/cloud-annotations/google-colab-training/blob/master/object_detection.ipynb#scrollTo=UXlvFvwUHrui)"
   ]
  },
  {
   "cell_type": "markdown",
   "metadata": {},
   "source": [
    "There's a lot to process here, but you will get a hang of it when you start doing it."
   ]
  },
  {
   "cell_type": "markdown",
   "metadata": {},
   "source": [
    "# Input Arguments to `model_main_tf2.py`"
   ]
  },
  {
   "cell_type": "markdown",
   "metadata": {},
   "source": [
    "If you go read the insides of [`model_main_tf2.py`](https://github.com/tensorflow/models/blob/master/research/object_detection/model_main_tf2.py), you will find lots of arguments to tweak."
   ]
  },
  {
   "cell_type": "markdown",
   "metadata": {},
   "source": [
    "There are two modes of this file:"
   ]
  },
  {
   "cell_type": "markdown",
   "metadata": {},
   "source": [
    "1. **Training:**\n",
    "    ``` bash\n",
    "    !python  \"somewhere/object_detection/model_main_tf2.py\" \\\n",
    "        --alsologtostderr\n",
    "        --pipeline_config_path=\"somewhere/pipeline.config\" \\\n",
    "        --model_dir=\"somewhere/trained_output\" \\\n",
    "        --num_train_steps=25000 \\\n",
    "        --checkpoint_every_n=1000\n",
    "        \n",
    "    ```  \n",
    "    * The first three arguments are self-explanatory.\n",
    "\n",
    "    * The `--num_train_steps=25000` means that the training will occur for 25000 time steps i.e. 25000 batch passes.\n",
    "    \n",
    "    * The `--checkpoint_every_n=1000` argument saves a `ckpt` weights file every 1000 time steps (1 time step = 1 batch processed). If you are going to train for 200~300 epochs and don't want redundant checkpoints, then set this to something high, like 2000 or 4000."
   ]
  },
  {
   "cell_type": "markdown",
   "metadata": {},
   "source": [
    "2. **Evaluation:**\n",
    "    While the training is running, you have to open another terminal (or colab) and run this:\n",
    "    ``` bash\n",
    "    !python  \"somewhere/object_detection/model_main_tf2.py\" \\\n",
    "        --alsologtostderr\n",
    "        --pipeline_config_path=\"somewhere/pipeline.config\" \\\n",
    "        --model_dir=\"somewhere/trained_output\" \\\n",
    "        --checkpoint_dir=\"somewhere/trained_output\" \\ #must be same as model_dir\n",
    "    ```  \n",
    "    * The first three arguments are same as before.\n",
    "\n",
    "    * The `--checkpoint_dir` argument makes the script do evaluations from the `val.record` TFRecord file you mentioned in `pipeline.config`. You will be find some evaluation files in `somewhere/trained_output/eval` directory, containing mAP values and classificationa accuracies, among other things. Read more about [evaluation](https://github.com/tensorflow/models/blob/master/research/object_detection/g3doc/evaluation_protocols.md)."
   ]
  },
  {
   "cell_type": "markdown",
   "metadata": {},
   "source": [
    "# Fixing PNG File Inputs: Remove the 4th channel"
   ]
  },
  {
   "cell_type": "markdown",
   "metadata": {},
   "source": [
    "A silly error might occur if you are using PNG images, because when `PIL` opens it, it returns an RGBA image, with an extra channel, which will break the inference program.\n",
    "\n",
    "Simple `numpy` slicing fixes it:\n",
    "``` python\n",
    "from PIL import Image\n",
    "import numpy as np\n",
    "\n",
    "img = Image.open(\"1.png\")\n",
    "img = np.array(img)\n",
    "img = img[:, :, 0:3]\n",
    "```\n",
    "Afterwards, you can input the numpy image into the [inference program](https://tensorflow-object-detection-api-tutorial.readthedocs.io/en/latest/auto_examples/plot_object_detection_checkpoint.html#sphx-glr-auto-examples-plot-object-detection-checkpoint-py)."
   ]
  },
  {
   "cell_type": "markdown",
   "metadata": {},
   "source": [
    "# Define Your Own Model Architecture and Initialization"
   ]
  },
  {
   "cell_type": "markdown",
   "metadata": {},
   "source": [
    "# Make Your Own Training Loop"
   ]
  },
  {
   "cell_type": "code",
   "execution_count": null,
   "metadata": {},
   "outputs": [],
   "source": []
  }
 ],
 "metadata": {
  "kernelspec": {
   "display_name": "Python 3",
   "language": "python",
   "name": "python3"
  },
  "language_info": {
   "codemirror_mode": {
    "name": "ipython",
    "version": 3
   },
   "file_extension": ".py",
   "mimetype": "text/x-python",
   "name": "python",
   "nbconvert_exporter": "python",
   "pygments_lexer": "ipython3",
   "version": "3.8.3"
  }
 },
 "nbformat": 4,
 "nbformat_minor": 4
}
